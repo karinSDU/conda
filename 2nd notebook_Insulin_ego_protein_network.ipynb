{
 "cells": [
  {
   "cell_type": "markdown",
   "metadata": {},
   "source": [
    "## Protein interaction network from STRING\n",
    "- In this notebook you will apply the functions from the previous notebook to a protein-protein interaction notebook and learn more functions.The notebook contain in total four exercises. \n",
    " "
   ]
  },
  {
   "cell_type": "markdown",
   "metadata": {},
   "source": [
    "## Installation of libraries and necessary software¶\n",
    "- Code to install libraries\n",
    "- State that this has to be run only once\n",
    "- If necessary, further installation instructions"
   ]
  },
  {
   "cell_type": "code",
   "execution_count": null,
   "metadata": {},
   "outputs": [],
   "source": [
    "import networkx as nx\n",
    "from datetime import datetime\n",
    "import matplotlib.pyplot as plt\n",
    "import numpy as np\n",
    "import warnings\n",
    "import csv\n",
    "from operator import itemgetter\n",
    "import pandas as pd\n",
    "\n",
    "warnings.filterwarnings('ignore')\n",
    "\n",
    "%load_ext autoreload\n",
    "%autoreload 2\n",
    "%matplotlib inline\n",
    "%config InlineBackend.figure_format = 'retina'"
   ]
  },
  {
   "cell_type": "markdown",
   "metadata": {},
   "source": [
    "## Loading data¶\n",
    "\n",
    "- Load the two csv files: \n",
    "        insulinnetwork_nodelist.csv (contains names on protein) \n",
    "        insulinnetwork_edgelist.cvs (contains the protein-protein interactions and an interaction scores)"
   ]
  },
  {
   "cell_type": "code",
   "execution_count": 24,
   "metadata": {},
   "outputs": [],
   "source": [
    "# Open the file with nodes\n",
    "with open('./data/insulinnetwork_nodelist.csv', 'r') as nodecsv:                 \n",
    "    nodereader = csv.reader(nodecsv) \n",
    "    nodes = [n for n in nodereader][1:]                     \n",
    "\n",
    "# Get a list of only the node names                                       \n",
    "node_names = [n[0] for n in nodes]    \n",
    "\n",
    "# Open the file with edges\n",
    "with open('./data/insulinnetwork_edgelist.csv', 'r') as edgecsv:\n",
    "    edgereader = csv.reader(edgecsv) \n",
    "    edges = [tuple(e) for e in edgereader][1:] \n",
    "    \n",
    "G = nx.Graph()\n",
    "\n",
    "G.add_nodes_from(node_names)\n",
    "G.add_edges_from(edges)"
   ]
  },
  {
   "cell_type": "markdown",
   "metadata": {},
   "source": [
    "### Exercise 1 - Basic information and drawing the network\n",
    "\n",
    "The network has the protein Insulin as the center of the network. This means that all the other proteins are connected by edges to Insulin, but may also be connected to eachother. This is called an ego network.\n",
    "\n",
    "Answer the question below by applying some of the commands you learned in the previous notebook. To get a high learning output you can type in the codes manually - to save time you can chose to copy-paste them instead. "
   ]
  },
  {
   "cell_type": "code",
   "execution_count": null,
   "metadata": {
    "scrolled": true
   },
   "outputs": [],
   "source": [
    "# The number of nodes and edges in the network\n",
    "\n",
    "\n",
    "# The first five nodes in the network\n",
    "\n",
    "\n",
    "# The first five edges in the network\n",
    "\n",
    "\n",
    "# Draw network with labels\n",
    "\n",
    "\n"
   ]
  },
  {
   "cell_type": "code",
   "execution_count": null,
   "metadata": {},
   "outputs": [],
   "source": [
    "# Draw subnetwork for the protein 'AKT'\n",
    "\n",
    "\n",
    "# List the neighbors of 'AKT'\n",
    "\n",
    "\n"
   ]
  },
  {
   "cell_type": "code",
   "execution_count": null,
   "metadata": {},
   "outputs": [],
   "source": [
    "# Rank top 10 proteins with the highest centrality \n",
    "\n",
    "\n",
    "# Plot the degree of centrality for all of the proteins in the network"
   ]
  },
  {
   "cell_type": "markdown",
   "metadata": {},
   "source": [
    "**Add your answers here**\n",
    "*(double-click here to edit the cell)*\n",
    "\n",
    "***Question I: What is the size of the networks in terms of numbers of nodes and edges?***\n",
    "\n",
    "_Answer_\n",
    "\n",
    "\n",
    "***Question II: Does 'AKT' and 'EGF' interact according to the network?***\n",
    "\n",
    "_Answer_\n",
    "\n",
    "\n",
    "***Question III: How many neighbors does protein with the 10th highest centrality have?***\n",
    "\n",
    "_Answer_\n",
    "\n",
    "\n",
    "***Question III: Comment on the graph showing the degree of centrality for the network. Explain what the curve shows.***\n",
    "\n",
    "_Answer_"
   ]
  },
  {
   "cell_type": "markdown",
   "metadata": {},
   "source": [
    "### Exercise 2 - Layout and directions\n"
   ]
  },
  {
   "cell_type": "markdown",
   "metadata": {},
   "source": [
    "Now we wants to look at different layout and include directions on the edges.\n",
    "\n",
    "First we draw a standard graph from our data:"
   ]
  },
  {
   "cell_type": "code",
   "execution_count": null,
   "metadata": {},
   "outputs": [],
   "source": [
    "nx.draw(G, with_labels=True)\n",
    "plt.show()"
   ]
  },
  {
   "cell_type": "markdown",
   "metadata": {},
   "source": [
    "In real life our data are distributed in a multidimensional space (3D). A layout algorithm has to be applied to establish how the nodes and edges should be placed on the screen i a 2D version. A certain layout may simplify the graph and make it easier to analyse and interpret as closely related nodes are grouped together. Often we have to choose between a dozen of different layout algorithms. Here we start by applying the Fruchterman Reingold layout algorithm, which is a force-directed layout."
   ]
  },
  {
   "cell_type": "code",
   "execution_count": null,
   "metadata": {},
   "outputs": [],
   "source": [
    "# Fruchterman Reingold\n",
    "nx.draw(G, node_size=1200, node_color='lightblue',\n",
    "    linewidths=0.25, font_size=10, font_weight='bold', with_labels=True, dpi=1000, pos=nx.fruchterman_reingold_layout(G))\n",
    "plt.title(\"fruchterman_reingold\")\n",
    "plt.show()"
   ]
  },
  {
   "cell_type": "markdown",
   "metadata": {},
   "source": [
    "You can also try out some of the other layout options in Networkx. Instead of Fruchterman_Reingold try circular, random and spectral."
   ]
  },
  {
   "cell_type": "code",
   "execution_count": null,
   "metadata": {},
   "outputs": [],
   "source": [
    "\n",
    "# circular\n",
    "\n",
    "\n",
    "# random\n",
    "\n",
    "\n",
    "# spectral\n",
    "\n",
    "\n"
   ]
  },
  {
   "cell_type": "markdown",
   "metadata": {},
   "source": [
    "In the graphs we have made so far, the direction of the edges were not given. If Mads was playing with Anna, then Anna was also playing with Mads. If instead we are dealing with situations were e.g. a protein activate another protein, we would like to add a direction on the relationship - going from the activating protein towards the activated protein. We do that by making a directed graph.\n",
    "\n",
    "In networkx we use the command nx.DiGraph() to indicate that we now want to make a directed graph. \n",
    "\n",
    "Be aware that one edge can go in both directions, indicated by an arrow in both ends of the edge."
   ]
  },
  {
   "cell_type": "code",
   "execution_count": null,
   "metadata": {},
   "outputs": [],
   "source": [
    "G = nx.DiGraph()\n",
    "\n",
    "G.add_nodes_from(node_names)\n",
    "G.add_edges_from(edges)\n",
    "\n",
    "nx.draw(G, node_size=1200, node_color='lightblue',\n",
    "    linewidths=0.25, font_size=10, font_weight='bold', with_labels=True, dpi=1000, pos=nx.fruchterman_reingold_layout(G))\n",
    "plt.title(\"fruchterman_reingold\")\n",
    "plt.show()\n"
   ]
  },
  {
   "cell_type": "markdown",
   "metadata": {},
   "source": [
    "Now, try to make a directed network with a circular layout, green nodes and where the labels have a white font. Add a header to the figure saying 'circular'"
   ]
  },
  {
   "cell_type": "code",
   "execution_count": 1,
   "metadata": {},
   "outputs": [],
   "source": [
    "# Directed circular graph with green nodes and white labels\n"
   ]
  },
  {
   "cell_type": "markdown",
   "metadata": {},
   "source": [
    "**Add your answers here**\n",
    "*(double-click here to edit the cell)*\n",
    "\n",
    "***Question I: What should you include in your code to make the labels white?***\n",
    "\n",
    "_Answer_\n"
   ]
  },
  {
   "cell_type": "markdown",
   "metadata": {},
   "source": [
    "### Exercise 3 - Density, shortest paths and betweenness centrality\n",
    "\n",
    "We will now introduce a few more terms related to graphs and show how networks can be represented as a plot instead of a graph. \n",
    "\n",
    "We start by calculation of the density of the network. Whereas the centrality is connected to the individual nodes, the density is related to the network and describes the portion of the potential connections in a network that are actual connections, i.e. how many of the potential edges are given in the network. For this network we will see that around one third of all the potential connections are actually given in the network."
   ]
  },
  {
   "cell_type": "code",
   "execution_count": null,
   "metadata": {},
   "outputs": [],
   "source": [
    "# Graph density:\n",
    "nx.density(G)"
   ]
  },
  {
   "cell_type": "markdown",
   "metadata": {},
   "source": [
    "We can also study the paths through the network. Often we will be most interested in finding the shortest path between two nodes, e.g. the shortest way that a signal can travel from one protein to another. E.g. the shortest path from GCG to EGF. "
   ]
  },
  {
   "cell_type": "code",
   "execution_count": null,
   "metadata": {},
   "outputs": [],
   "source": [
    "nx.shortest_path(G, 'GCG', 'EGF')"
   ]
  },
  {
   "cell_type": "markdown",
   "metadata": {},
   "source": [
    "Now, what happens if we take the shortest path the other way around - from EGF to GCG?"
   ]
  },
  {
   "cell_type": "code",
   "execution_count": null,
   "metadata": {},
   "outputs": [],
   "source": [
    "# Shortest path from EGF to GCG\n"
   ]
  },
  {
   "cell_type": "markdown",
   "metadata": {},
   "source": [
    "Use the code above to change the graph from a directed graph to an undirected graph and then try the same."
   ]
  },
  {
   "cell_type": "code",
   "execution_count": null,
   "metadata": {},
   "outputs": [],
   "source": [
    "# Transforming the graph into an undirected graph\n",
    "\n",
    "G = nx.__(G)\n",
    "\n",
    "G.add_nodes_from(node_names)\n",
    "G.add_edges_from(edges)\n"
   ]
  },
  {
   "cell_type": "code",
   "execution_count": null,
   "metadata": {},
   "outputs": [],
   "source": [
    "# Shortest path from EGF to GCG"
   ]
  },
  {
   "cell_type": "markdown",
   "metadata": {},
   "source": [
    "Select two proteins of your own and find the shortest path between them."
   ]
  },
  {
   "cell_type": "code",
   "execution_count": null,
   "metadata": {},
   "outputs": [],
   "source": [
    "# Shortest path from __ to __"
   ]
  },
  {
   "cell_type": "markdown",
   "metadata": {},
   "source": [
    "Knowing about the concepts of shortest path and centrality, we can now meassure the betweenness centrality. Betweenness centrality is a measure of centrality in a graph based on shortest paths. The betweenness centrality for each node (here proteins) is the number of shortest paths that pass through the node. \n",
    "\n",
    "You can say that the higher betweenness centrality a node has, the more control the node has over the network, because more information will pass through that node. In an ego-centeret network it is expected that the ego (here Insulin) will have the highest betweenness centrality. "
   ]
  },
  {
   "cell_type": "code",
   "execution_count": null,
   "metadata": {},
   "outputs": [],
   "source": [
    "btws = nx.betweenness_centrality(G, normalized=False)\n",
    "plt.bar(list(btws.keys()), list(btws.values()))"
   ]
  },
  {
   "cell_type": "markdown",
   "metadata": {},
   "source": [
    "**Add your answers here**\n",
    "*(double-click here to edit the cell)*\n",
    "\n",
    "***Question I: How many proteins is in the shortest path from GCG to EGF (excluding GCG and EGF)?***\n",
    "\n",
    "_Answer_\n",
    "\n",
    "\n",
    "***Question II: Which of the proteins in the insulin network has the second highest betweenness centrality?***\n",
    "\n",
    "_Answer_\n"
   ]
  },
  {
   "cell_type": "markdown",
   "metadata": {},
   "source": [
    "### Exercise 4 - Networks as matrices and arrays\n",
    "\n",
    "We will end this notebook with demonstrating how a matrix plot of a network can be made. We use the nxviz function from MatrixPlot for this. "
   ]
  },
  {
   "cell_type": "code",
   "execution_count": null,
   "metadata": {},
   "outputs": [],
   "source": [
    "from nxviz import MatrixPlot\n",
    "\n",
    "m = MatrixPlot(G)\n",
    "m.draw()\n",
    "plt.show()"
   ]
  },
  {
   "cell_type": "markdown",
   "metadata": {},
   "source": [
    "Depending on whether or not your present network is given as a directed or undirected graph, the plot will have a symmetric or asymmetric structure. "
   ]
  },
  {
   "cell_type": "code",
   "execution_count": 110,
   "metadata": {},
   "outputs": [],
   "source": [
    "# Transform the graph to a directed or undirected graph \n",
    "\n"
   ]
  },
  {
   "cell_type": "code",
   "execution_count": null,
   "metadata": {},
   "outputs": [],
   "source": [
    "from nxviz import MatrixPlot\n",
    "\n",
    "m = MatrixPlot(G)\n",
    "m.draw()\n",
    "plt.show()"
   ]
  },
  {
   "cell_type": "markdown",
   "metadata": {},
   "source": [
    "We can also use an array function from numpy to make an array of the graph instead of a matrix plot."
   ]
  },
  {
   "cell_type": "code",
   "execution_count": null,
   "metadata": {},
   "outputs": [],
   "source": [
    "A1 = nx.to_numpy_array(G, nodelist=sorted(G.nodes()))\n",
    "A1"
   ]
  },
  {
   "cell_type": "markdown",
   "metadata": {},
   "source": [
    "**Add your answers here**\n",
    "*(double-click here to edit the cell)*\n",
    "\n",
    "***Question I: Descripe the difference between the matrix plot from a directed and an undirected graph***\n",
    "\n",
    "_Answer_\n",
    "\n",
    "\n",
    "\n"
   ]
  }
 ],
 "metadata": {
  "kernelspec": {
   "display_name": "Python 3",
   "language": "python",
   "name": "python3"
  },
  "language_info": {
   "codemirror_mode": {
    "name": "ipython",
    "version": 3
   },
   "file_extension": ".py",
   "mimetype": "text/x-python",
   "name": "python",
   "nbconvert_exporter": "python",
   "pygments_lexer": "ipython3",
   "version": "3.7.1"
  }
 },
 "nbformat": 4,
 "nbformat_minor": 2
}
